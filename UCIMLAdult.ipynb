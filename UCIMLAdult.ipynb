{
 "cells": [
  {
   "cell_type": "code",
   "execution_count": 1,
   "metadata": {},
   "outputs": [],
   "source": [
    "from DataLoader import DataLoader\n",
    "from Anonymisation import Anonymisation\n",
    "from Consistenter import Consistenter\n",
    "from GUM import GraduallyUpdateMethod\n",
    "from PostProcessor import RecordPostprocessor"
   ]
  },
  {
   "cell_type": "code",
   "execution_count": 2,
   "metadata": {},
   "outputs": [
    {
     "data": {
      "text/html": [
       "<div>\n",
       "<style scoped>\n",
       "    .dataframe tbody tr th:only-of-type {\n",
       "        vertical-align: middle;\n",
       "    }\n",
       "\n",
       "    .dataframe tbody tr th {\n",
       "        vertical-align: top;\n",
       "    }\n",
       "\n",
       "    .dataframe thead th {\n",
       "        text-align: right;\n",
       "    }\n",
       "</style>\n",
       "<table border=\"1\" class=\"dataframe\">\n",
       "  <thead>\n",
       "    <tr style=\"text-align: right;\">\n",
       "      <th></th>\n",
       "      <th>age</th>\n",
       "      <th>workclass</th>\n",
       "      <th>education</th>\n",
       "      <th>marital-status</th>\n",
       "      <th>occupation</th>\n",
       "      <th>relationship</th>\n",
       "      <th>race</th>\n",
       "      <th>sex</th>\n",
       "      <th>capital-gain</th>\n",
       "      <th>capital-loss</th>\n",
       "      <th>hours-per-week</th>\n",
       "      <th>native-country</th>\n",
       "      <th>income</th>\n",
       "    </tr>\n",
       "  </thead>\n",
       "  <tbody>\n",
       "    <tr>\n",
       "      <th>0</th>\n",
       "      <td>3</td>\n",
       "      <td>1</td>\n",
       "      <td>0</td>\n",
       "      <td>2</td>\n",
       "      <td>1</td>\n",
       "      <td>4</td>\n",
       "      <td>0</td>\n",
       "      <td>1</td>\n",
       "      <td>1</td>\n",
       "      <td>0</td>\n",
       "      <td>4</td>\n",
       "      <td>1</td>\n",
       "      <td>1</td>\n",
       "    </tr>\n",
       "    <tr>\n",
       "      <th>1</th>\n",
       "      <td>4</td>\n",
       "      <td>2</td>\n",
       "      <td>0</td>\n",
       "      <td>0</td>\n",
       "      <td>2</td>\n",
       "      <td>3</td>\n",
       "      <td>0</td>\n",
       "      <td>1</td>\n",
       "      <td>0</td>\n",
       "      <td>0</td>\n",
       "      <td>2</td>\n",
       "      <td>1</td>\n",
       "      <td>1</td>\n",
       "    </tr>\n",
       "    <tr>\n",
       "      <th>2</th>\n",
       "      <td>3</td>\n",
       "      <td>3</td>\n",
       "      <td>1</td>\n",
       "      <td>1</td>\n",
       "      <td>3</td>\n",
       "      <td>4</td>\n",
       "      <td>0</td>\n",
       "      <td>1</td>\n",
       "      <td>0</td>\n",
       "      <td>0</td>\n",
       "      <td>4</td>\n",
       "      <td>1</td>\n",
       "      <td>1</td>\n",
       "    </tr>\n",
       "    <tr>\n",
       "      <th>3</th>\n",
       "      <td>4</td>\n",
       "      <td>3</td>\n",
       "      <td>2</td>\n",
       "      <td>0</td>\n",
       "      <td>3</td>\n",
       "      <td>3</td>\n",
       "      <td>4</td>\n",
       "      <td>1</td>\n",
       "      <td>0</td>\n",
       "      <td>0</td>\n",
       "      <td>4</td>\n",
       "      <td>1</td>\n",
       "      <td>1</td>\n",
       "    </tr>\n",
       "    <tr>\n",
       "      <th>4</th>\n",
       "      <td>2</td>\n",
       "      <td>3</td>\n",
       "      <td>0</td>\n",
       "      <td>0</td>\n",
       "      <td>4</td>\n",
       "      <td>1</td>\n",
       "      <td>4</td>\n",
       "      <td>0</td>\n",
       "      <td>0</td>\n",
       "      <td>0</td>\n",
       "      <td>4</td>\n",
       "      <td>2</td>\n",
       "      <td>1</td>\n",
       "    </tr>\n",
       "  </tbody>\n",
       "</table>\n",
       "</div>"
      ],
      "text/plain": [
       "   age  workclass  education  marital-status  occupation  relationship  race  \\\n",
       "0    3          1          0               2           1             4     0   \n",
       "1    4          2          0               0           2             3     0   \n",
       "2    3          3          1               1           3             4     0   \n",
       "3    4          3          2               0           3             3     4   \n",
       "4    2          3          0               0           4             1     4   \n",
       "\n",
       "   sex  capital-gain  capital-loss  hours-per-week  native-country  income  \n",
       "0    1             1             0               4               1       1  \n",
       "1    1             0             0               2               1       1  \n",
       "2    1             0             0               4               1       1  \n",
       "3    1             0             0               4               1       1  \n",
       "4    0             0             0               4               2       1  "
      ]
     },
     "metadata": {},
     "output_type": "display_data"
    }
   ],
   "source": [
    "dl = DataLoader('UCIMLAdult/uciml_adult.csv', 'UCIMLAdult/data.yaml', 'UCIMLAdult/column_info.json', 'UCIMLAdult/loading_data.json')\n",
    "dl.data_loader()\n",
    "dl.all_indifs(dl.private_data)\n",
    "pass"
   ]
  },
  {
   "cell_type": "code",
   "execution_count": 3,
   "metadata": {},
   "outputs": [
    {
     "name": "stdout",
     "output_type": "stream",
     "text": [
      "epsilon: 10, delta: 3e-11, rho: 0.8616407135665874\n",
      "one-way sigma: 8.685474957955632\n",
      "indif sigma: 2.3399999999999998e-09\n",
      "multi-way sigma: 5.838830013637393\n"
     ]
    }
   ],
   "source": [
    "anon = Anonymisation(10,3e-11)\n",
    "anon.anonymiser(dl)\n",
    "pass"
   ]
  },
  {
   "cell_type": "code",
   "execution_count": 4,
   "metadata": {},
   "outputs": [
    {
     "name": "stdout",
     "output_type": "stream",
     "text": [
      "Iteration 1 of 5 to make the marginals consistent and normalise them\n",
      "Iteration 2 of 5 to make the marginals consistent and normalise them\n",
      "Iteration 3 of 5 to make the marginals consistent and normalise them\n",
      "Iteration 4 of 5 to make the marginals consistent and normalise them\n",
      "Iteration 5 of 5 to make the marginals consistent and normalise them\n"
     ]
    }
   ],
   "source": [
    "c = Consistenter(anon, dl.all_attrs)\n",
    "c.make_consistent(iterations = 5)\n",
    "pass"
   ]
  },
  {
   "cell_type": "code",
   "execution_count": 5,
   "metadata": {},
   "outputs": [
    {
     "name": "stdout",
     "output_type": "stream",
     "text": [
      "Iteration 1 of 100 completed to consist the marginal views\n",
      "Iteration 2 of 100 completed to consist the marginal views\n",
      "Iteration 3 of 100 completed to consist the marginal views\n",
      "Iteration 4 of 100 completed to consist the marginal views\n",
      "Iteration 5 of 100 completed to consist the marginal views\n",
      "Iteration 6 of 100 completed to consist the marginal views\n",
      "Iteration 7 of 100 completed to consist the marginal views\n",
      "Iteration 8 of 100 completed to consist the marginal views\n",
      "Iteration 9 of 100 completed to consist the marginal views\n",
      "Iteration 10 of 100 completed to consist the marginal views\n",
      "Iteration 11 of 100 completed to consist the marginal views\n",
      "Iteration 12 of 100 completed to consist the marginal views\n",
      "Iteration 13 of 100 completed to consist the marginal views\n",
      "Iteration 14 of 100 completed to consist the marginal views\n",
      "Iteration 15 of 100 completed to consist the marginal views\n",
      "Iteration 16 of 100 completed to consist the marginal views\n",
      "Iteration 17 of 100 completed to consist the marginal views\n",
      "Iteration 18 of 100 completed to consist the marginal views\n",
      "Iteration 19 of 100 completed to consist the marginal views\n",
      "Iteration 20 of 100 completed to consist the marginal views\n",
      "Iteration 21 of 100 completed to consist the marginal views\n",
      "Iteration 22 of 100 completed to consist the marginal views\n",
      "Iteration 23 of 100 completed to consist the marginal views\n",
      "Iteration 24 of 100 completed to consist the marginal views\n",
      "Iteration 25 of 100 completed to consist the marginal views\n",
      "Iteration 26 of 100 completed to consist the marginal views\n",
      "Iteration 27 of 100 completed to consist the marginal views\n",
      "Iteration 28 of 100 completed to consist the marginal views\n",
      "Iteration 29 of 100 completed to consist the marginal views\n",
      "Iteration 30 of 100 completed to consist the marginal views\n",
      "Iteration 31 of 100 completed to consist the marginal views\n",
      "Iteration 32 of 100 completed to consist the marginal views\n",
      "Iteration 33 of 100 completed to consist the marginal views\n",
      "Iteration 34 of 100 completed to consist the marginal views\n",
      "Iteration 35 of 100 completed to consist the marginal views\n",
      "Iteration 36 of 100 completed to consist the marginal views\n",
      "Iteration 37 of 100 completed to consist the marginal views\n",
      "Iteration 38 of 100 completed to consist the marginal views\n",
      "Iteration 39 of 100 completed to consist the marginal views\n",
      "Iteration 40 of 100 completed to consist the marginal views\n",
      "Iteration 41 of 100 completed to consist the marginal views\n",
      "Iteration 42 of 100 completed to consist the marginal views\n",
      "Iteration 43 of 100 completed to consist the marginal views\n",
      "Iteration 44 of 100 completed to consist the marginal views\n",
      "Iteration 45 of 100 completed to consist the marginal views\n",
      "Iteration 46 of 100 completed to consist the marginal views\n",
      "Iteration 47 of 100 completed to consist the marginal views\n",
      "Iteration 48 of 100 completed to consist the marginal views\n",
      "Iteration 49 of 100 completed to consist the marginal views\n",
      "Iteration 50 of 100 completed to consist the marginal views\n",
      "Iteration 51 of 100 completed to consist the marginal views\n",
      "Iteration 52 of 100 completed to consist the marginal views\n",
      "Iteration 53 of 100 completed to consist the marginal views\n",
      "Iteration 54 of 100 completed to consist the marginal views\n",
      "Iteration 55 of 100 completed to consist the marginal views\n",
      "Iteration 56 of 100 completed to consist the marginal views\n",
      "Iteration 57 of 100 completed to consist the marginal views\n",
      "Iteration 58 of 100 completed to consist the marginal views\n",
      "Iteration 59 of 100 completed to consist the marginal views\n",
      "Iteration 60 of 100 completed to consist the marginal views\n",
      "Iteration 61 of 100 completed to consist the marginal views\n",
      "Iteration 62 of 100 completed to consist the marginal views\n",
      "Iteration 63 of 100 completed to consist the marginal views\n",
      "Iteration 64 of 100 completed to consist the marginal views\n",
      "Iteration 65 of 100 completed to consist the marginal views\n",
      "Iteration 66 of 100 completed to consist the marginal views\n",
      "Iteration 67 of 100 completed to consist the marginal views\n",
      "Iteration 68 of 100 completed to consist the marginal views\n",
      "Iteration 69 of 100 completed to consist the marginal views\n",
      "Iteration 70 of 100 completed to consist the marginal views\n",
      "Iteration 71 of 100 completed to consist the marginal views\n",
      "Iteration 72 of 100 completed to consist the marginal views\n",
      "Iteration 73 of 100 completed to consist the marginal views\n",
      "Iteration 74 of 100 completed to consist the marginal views\n",
      "Iteration 75 of 100 completed to consist the marginal views\n",
      "Iteration 76 of 100 completed to consist the marginal views\n",
      "Iteration 77 of 100 completed to consist the marginal views\n",
      "Iteration 78 of 100 completed to consist the marginal views\n",
      "Iteration 79 of 100 completed to consist the marginal views\n",
      "Iteration 80 of 100 completed to consist the marginal views\n",
      "Iteration 81 of 100 completed to consist the marginal views\n",
      "Iteration 82 of 100 completed to consist the marginal views\n",
      "Iteration 83 of 100 completed to consist the marginal views\n",
      "Iteration 84 of 100 completed to consist the marginal views\n",
      "Iteration 85 of 100 completed to consist the marginal views\n",
      "Iteration 86 of 100 completed to consist the marginal views\n",
      "Iteration 87 of 100 completed to consist the marginal views\n",
      "Iteration 88 of 100 completed to consist the marginal views\n",
      "Iteration 89 of 100 completed to consist the marginal views\n",
      "Iteration 90 of 100 completed to consist the marginal views\n",
      "Iteration 91 of 100 completed to consist the marginal views\n",
      "Iteration 92 of 100 completed to consist the marginal views\n",
      "Iteration 93 of 100 completed to consist the marginal views\n",
      "Iteration 94 of 100 completed to consist the marginal views\n",
      "Iteration 95 of 100 completed to consist the marginal views\n",
      "Iteration 96 of 100 completed to consist the marginal views\n",
      "Iteration 97 of 100 completed to consist the marginal views\n",
      "Iteration 98 of 100 completed to consist the marginal views\n",
      "Iteration 99 of 100 completed to consist the marginal views\n",
      "Iteration 100 of 100 completed to consist the marginal views\n",
      "num_rec: 48839\n",
      "attrs: ['age', 'hours-per-week', 'capital-gain', 'capital-loss', 'workclass', 'education', 'marital-status', 'occupation', 'relationship', 'race', 'sex', 'native-country', 'income']\n",
      "domains: [ 9 11 21 10 10 16  7 16  7  5  2 43  2]\n",
      "Iteration 1 of 100 completed to generate the dataset using the noisy marginals\n",
      "Iteration 2 of 100 completed to generate the dataset using the noisy marginals\n",
      "Iteration 3 of 100 completed to generate the dataset using the noisy marginals\n",
      "Iteration 4 of 100 completed to generate the dataset using the noisy marginals\n",
      "Iteration 5 of 100 completed to generate the dataset using the noisy marginals\n",
      "Iteration 6 of 100 completed to generate the dataset using the noisy marginals\n",
      "Iteration 7 of 100 completed to generate the dataset using the noisy marginals\n",
      "Iteration 8 of 100 completed to generate the dataset using the noisy marginals\n",
      "Iteration 9 of 100 completed to generate the dataset using the noisy marginals\n",
      "Iteration 10 of 100 completed to generate the dataset using the noisy marginals\n",
      "Iteration 11 of 100 completed to generate the dataset using the noisy marginals\n",
      "Iteration 12 of 100 completed to generate the dataset using the noisy marginals\n",
      "Iteration 13 of 100 completed to generate the dataset using the noisy marginals\n",
      "Iteration 14 of 100 completed to generate the dataset using the noisy marginals\n",
      "Iteration 15 of 100 completed to generate the dataset using the noisy marginals\n",
      "Iteration 16 of 100 completed to generate the dataset using the noisy marginals\n",
      "Iteration 17 of 100 completed to generate the dataset using the noisy marginals\n",
      "Iteration 18 of 100 completed to generate the dataset using the noisy marginals\n",
      "Iteration 19 of 100 completed to generate the dataset using the noisy marginals\n",
      "Iteration 20 of 100 completed to generate the dataset using the noisy marginals\n",
      "Iteration 21 of 100 completed to generate the dataset using the noisy marginals\n",
      "Iteration 22 of 100 completed to generate the dataset using the noisy marginals\n",
      "Iteration 23 of 100 completed to generate the dataset using the noisy marginals\n",
      "Iteration 24 of 100 completed to generate the dataset using the noisy marginals\n",
      "Iteration 25 of 100 completed to generate the dataset using the noisy marginals\n",
      "Iteration 26 of 100 completed to generate the dataset using the noisy marginals\n",
      "Iteration 27 of 100 completed to generate the dataset using the noisy marginals\n",
      "Iteration 28 of 100 completed to generate the dataset using the noisy marginals\n",
      "Iteration 29 of 100 completed to generate the dataset using the noisy marginals\n",
      "Iteration 30 of 100 completed to generate the dataset using the noisy marginals\n",
      "Iteration 31 of 100 completed to generate the dataset using the noisy marginals\n",
      "Iteration 32 of 100 completed to generate the dataset using the noisy marginals\n",
      "Iteration 33 of 100 completed to generate the dataset using the noisy marginals\n",
      "Iteration 34 of 100 completed to generate the dataset using the noisy marginals\n",
      "Iteration 35 of 100 completed to generate the dataset using the noisy marginals\n",
      "Iteration 36 of 100 completed to generate the dataset using the noisy marginals\n",
      "Iteration 37 of 100 completed to generate the dataset using the noisy marginals\n",
      "Iteration 38 of 100 completed to generate the dataset using the noisy marginals\n",
      "Iteration 39 of 100 completed to generate the dataset using the noisy marginals\n",
      "Iteration 40 of 100 completed to generate the dataset using the noisy marginals\n",
      "Iteration 41 of 100 completed to generate the dataset using the noisy marginals\n",
      "Iteration 42 of 100 completed to generate the dataset using the noisy marginals\n",
      "Iteration 43 of 100 completed to generate the dataset using the noisy marginals\n",
      "Iteration 44 of 100 completed to generate the dataset using the noisy marginals\n",
      "Iteration 45 of 100 completed to generate the dataset using the noisy marginals\n",
      "Iteration 46 of 100 completed to generate the dataset using the noisy marginals\n",
      "Iteration 47 of 100 completed to generate the dataset using the noisy marginals\n",
      "Iteration 48 of 100 completed to generate the dataset using the noisy marginals\n",
      "Iteration 49 of 100 completed to generate the dataset using the noisy marginals\n",
      "Iteration 50 of 100 completed to generate the dataset using the noisy marginals\n",
      "Iteration 51 of 100 completed to generate the dataset using the noisy marginals\n",
      "Iteration 52 of 100 completed to generate the dataset using the noisy marginals\n",
      "Iteration 53 of 100 completed to generate the dataset using the noisy marginals\n",
      "Iteration 54 of 100 completed to generate the dataset using the noisy marginals\n",
      "Iteration 55 of 100 completed to generate the dataset using the noisy marginals\n",
      "Iteration 56 of 100 completed to generate the dataset using the noisy marginals\n",
      "Iteration 57 of 100 completed to generate the dataset using the noisy marginals\n",
      "Iteration 58 of 100 completed to generate the dataset using the noisy marginals\n",
      "Iteration 59 of 100 completed to generate the dataset using the noisy marginals\n",
      "Iteration 60 of 100 completed to generate the dataset using the noisy marginals\n",
      "Iteration 61 of 100 completed to generate the dataset using the noisy marginals\n",
      "Iteration 62 of 100 completed to generate the dataset using the noisy marginals\n",
      "Iteration 63 of 100 completed to generate the dataset using the noisy marginals\n",
      "Iteration 64 of 100 completed to generate the dataset using the noisy marginals\n",
      "Iteration 65 of 100 completed to generate the dataset using the noisy marginals\n",
      "Iteration 66 of 100 completed to generate the dataset using the noisy marginals\n",
      "Iteration 67 of 100 completed to generate the dataset using the noisy marginals\n",
      "Iteration 68 of 100 completed to generate the dataset using the noisy marginals\n",
      "Iteration 69 of 100 completed to generate the dataset using the noisy marginals\n",
      "Iteration 70 of 100 completed to generate the dataset using the noisy marginals\n",
      "Iteration 71 of 100 completed to generate the dataset using the noisy marginals\n",
      "Iteration 72 of 100 completed to generate the dataset using the noisy marginals\n",
      "Iteration 73 of 100 completed to generate the dataset using the noisy marginals\n",
      "Iteration 74 of 100 completed to generate the dataset using the noisy marginals\n",
      "Iteration 75 of 100 completed to generate the dataset using the noisy marginals\n",
      "Iteration 76 of 100 completed to generate the dataset using the noisy marginals\n",
      "Iteration 77 of 100 completed to generate the dataset using the noisy marginals\n",
      "Iteration 78 of 100 completed to generate the dataset using the noisy marginals\n",
      "Iteration 79 of 100 completed to generate the dataset using the noisy marginals\n",
      "Iteration 80 of 100 completed to generate the dataset using the noisy marginals\n",
      "Iteration 81 of 100 completed to generate the dataset using the noisy marginals\n",
      "Iteration 82 of 100 completed to generate the dataset using the noisy marginals\n",
      "Iteration 83 of 100 completed to generate the dataset using the noisy marginals\n",
      "Iteration 84 of 100 completed to generate the dataset using the noisy marginals\n",
      "Iteration 85 of 100 completed to generate the dataset using the noisy marginals\n",
      "Iteration 86 of 100 completed to generate the dataset using the noisy marginals\n",
      "Iteration 87 of 100 completed to generate the dataset using the noisy marginals\n",
      "Iteration 88 of 100 completed to generate the dataset using the noisy marginals\n",
      "Iteration 89 of 100 completed to generate the dataset using the noisy marginals\n",
      "Iteration 90 of 100 completed to generate the dataset using the noisy marginals\n",
      "Iteration 91 of 100 completed to generate the dataset using the noisy marginals\n",
      "Iteration 92 of 100 completed to generate the dataset using the noisy marginals\n",
      "Iteration 93 of 100 completed to generate the dataset using the noisy marginals\n",
      "Iteration 94 of 100 completed to generate the dataset using the noisy marginals\n",
      "Iteration 95 of 100 completed to generate the dataset using the noisy marginals\n",
      "Iteration 96 of 100 completed to generate the dataset using the noisy marginals\n",
      "Iteration 97 of 100 completed to generate the dataset using the noisy marginals\n",
      "Iteration 98 of 100 completed to generate the dataset using the noisy marginals\n",
      "Iteration 99 of 100 completed to generate the dataset using the noisy marginals\n",
      "Iteration 100 of 100 completed to generate the dataset using the noisy marginals\n"
     ]
    }
   ],
   "source": [
    "gum = GraduallyUpdateMethod(dl, c)\n",
    "gum.initialiser(view_iterations = 100)\n",
    "syn_data = gum.synthesize(iterations = 100, num_records = int(c.num_synthesize_records))\n",
    "pass"
   ]
  },
  {
   "cell_type": "code",
   "execution_count": 6,
   "metadata": {},
   "outputs": [],
   "source": [
    "processor_priv = RecordPostprocessor(dl.private_data, dl.configpath, dl.datainfopath, dl.decode_mapping)\n",
    "processor_pub = RecordPostprocessor(syn_data, dl.configpath, dl.datainfopath, dl.decode_mapping)\n",
    "priv_data = processor_priv.post_process()\n",
    "pub_data = processor_pub.post_process()"
   ]
  },
  {
   "cell_type": "markdown",
   "metadata": {},
   "source": [
    "## Marginal Difference Score"
   ]
  },
  {
   "cell_type": "code",
   "execution_count": 7,
   "metadata": {},
   "outputs": [
    {
     "data": {
      "text/plain": [
       "0.12219046379160214"
      ]
     },
     "execution_count": 7,
     "metadata": {},
     "output_type": "execute_result"
    }
   ],
   "source": [
    "t = 0\n",
    "for i in range(len(dl.all_attrs)):\n",
    "    for j in range(i+1, len(dl.all_attrs)):\n",
    "        attr1 = dl.all_attrs[i]\n",
    "        attr2 = dl.all_attrs[j]\n",
    "        priv_marg = dl.two_way_marginal(attr1, attr2, dl.private_data)/len(dl.private_data)\n",
    "        pub_marg = dl.two_way_marginal(attr1, attr2, syn_data)/len(syn_data)\n",
    "        t += (priv_marg - pub_marg).abs().sum().sum()\n",
    "t/(len(dl.all_attrs)*(len(dl.all_attrs)-1))"
   ]
  },
  {
   "cell_type": "markdown",
   "metadata": {},
   "source": [
    "## Classification Score"
   ]
  },
  {
   "cell_type": "code",
   "execution_count": 8,
   "metadata": {},
   "outputs": [
    {
     "name": "stderr",
     "output_type": "stream",
     "text": [
      "/opt/anaconda3/envs/privsyntest/lib/python3.9/site-packages/scipy/__init__.py:146: UserWarning: A NumPy version >=1.16.5 and <1.23.0 is required for this version of SciPy (detected version 1.26.4\n",
      "  warnings.warn(f\"A NumPy version >={np_minversion} and <{np_maxversion}\"\n"
     ]
    }
   ],
   "source": [
    "from sklearn import svm\n",
    "import pandas as pd"
   ]
  },
  {
   "cell_type": "code",
   "execution_count": 9,
   "metadata": {},
   "outputs": [],
   "source": [
    "priv_x = priv_data.copy(deep = True).drop(columns = ['income'])\n",
    "priv_x_ohe = pd.get_dummies(priv_x)\n",
    "priv_y = priv_data['income']"
   ]
  },
  {
   "cell_type": "code",
   "execution_count": 10,
   "metadata": {},
   "outputs": [],
   "source": [
    "pub_x = pub_data.copy(deep = True).drop(columns = ['income'])\n",
    "pub_x_ohe = pd.get_dummies(pub_x)\n",
    "for col in priv_x_ohe.columns:\n",
    "    if col not in pub_x_ohe.columns:\n",
    "        pub_x_ohe[col]=0\n",
    "cols = priv_x_ohe.columns\n",
    "pub_x_ohe = pub_x_ohe[cols]\n",
    "pub_y = pub_data['income']"
   ]
  },
  {
   "cell_type": "code",
   "execution_count": 11,
   "metadata": {},
   "outputs": [
    {
     "data": {
      "text/plain": [
       "0.19839482412677611"
      ]
     },
     "execution_count": 11,
     "metadata": {},
     "output_type": "execute_result"
    }
   ],
   "source": [
    "priv_classifier = svm.SVC()\n",
    "priv_classifier.fit(priv_x_ohe, priv_y)\n",
    "priv_score = priv_classifier.score(priv_x_ohe, priv_y)\n",
    "priv_misscore = 1-priv_score\n",
    "priv_misscore"
   ]
  },
  {
   "cell_type": "code",
   "execution_count": 12,
   "metadata": {},
   "outputs": [
    {
     "data": {
      "text/plain": [
       "0.2392817656934605"
      ]
     },
     "execution_count": 12,
     "metadata": {},
     "output_type": "execute_result"
    }
   ],
   "source": [
    "pub_classifier = svm.SVC()\n",
    "pub_classifier.fit(pub_x_ohe, pub_y)\n",
    "pub_score = pub_classifier.score(priv_x_ohe, priv_y)\n",
    "pub_misscore = 1-pub_score\n",
    "pub_misscore"
   ]
  }
 ],
 "metadata": {
  "kernelspec": {
   "display_name": "privsyntest",
   "language": "python",
   "name": "python3"
  },
  "language_info": {
   "codemirror_mode": {
    "name": "ipython",
    "version": 3
   },
   "file_extension": ".py",
   "mimetype": "text/x-python",
   "name": "python",
   "nbconvert_exporter": "python",
   "pygments_lexer": "ipython3",
   "version": "3.9.19"
  }
 },
 "nbformat": 4,
 "nbformat_minor": 2
}
